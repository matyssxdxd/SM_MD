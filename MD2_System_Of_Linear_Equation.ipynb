{
 "cells": [
  {
   "cell_type": "markdown",
   "metadata": {
    "id": "9_kgmbVVTkqA"
   },
   "source": [
    "# Mājas darbs 2 - Lineāro vienādojumu sistēmas\n",
    "Aprēķināt doto lineāro vienādojumu sistēmu $X$, izmantojot metodi $Y$. Papildus punkti par uzrakstīto funckiju, kura būs izveidota vispārīgā veidā un spēs aprēķināt brīvi izvēlēta lieluma vienādojumu sistēmu.\n",
    "\n",
    "$Y$ =\n",
    "\n",
    "a. Krāmera   \n",
    "b. Gauss izslēgšanas   \n",
    "c. Gauss-Jordan   \n",
    "d. Gauss-Siedel   \n",
    "\n",
    "$X$=\n",
    "\n",
    "(1)\\begin{alignat*}{4}\n",
    "   12a & {}+{} & b & {}-{} & 5c & {}+{} & 2d & {}={} 2 \\\\\n",
    "   2a & {}-{} & 14b & {}-{} & 3c & {}-{} & 2d & {}={} 1 \\\\\n",
    "   2a & {}+{} & 3b & {}+{} & 11c & {}+{} & 5d & {}={} 3 \\\\\n",
    "   a & {}+{} & b & {}-{} & 3c & {}+{} & 6d & {}={} -3 \\\\\n",
    "\\end{alignat*}\n",
    "(2)\\begin{alignat*}{4}\n",
    "   3x & {}-{} & 4y & {}+{} & 5z & {}-{} & 4t & {}={} 12 \\\\\n",
    "   2x & {}+{} & y & {}+{} & 2z & {}+{} & 3t & {}={} 52 \\\\\n",
    "   2x & {}-{} & 2y & {}+{} & 2z & {}-{} & 4t & {}={} 0 \\\\\n",
    "   2x & {}-{} & 3y & {}+{} & 2z & {}-{} & t & {}={} 4 \\\\\n",
    "\\end{alignat*}\n",
    "(3) \\begin{alignat*}{4}\n",
    "   10a & {}+{} & 1.5b & {}-{} & 1.5c & {}+{} & d & {}={} 4 \\\\\n",
    "   4a  & {}+{} & 6b & {}+{} & 22c & {}+{} & 10d & {}={} 1.5 \\\\\n",
    "   3a  & {}+{} & 15b & {}+{} & 7c & {}+{} & 6d & {}={} 3 \\\\\n",
    "   a   & {}+{} & b & {}-{} & 3c & {}+{} & 4d & {}={} 3 \\\\\n",
    "\\end{alignat*}"
   ]
  },
  {
   "cell_type": "code",
   "execution_count": 177,
   "metadata": {
    "id": "dYf2KuU6UzPw"
   },
   "outputs": [],
   "source": [
    "import numpy as np\n",
    "\n",
    "\n",
    "answer_column_1 = [2, 1, 3, -3]\n",
    "\n",
    "input_matrix_1 = [\n",
    "                  [12, 2, 2, 1],\n",
    "                  [1, -14, 3, 1],\n",
    "                  [-5, -3, 11, -3],\n",
    "                  [2, -2, 5, 6]\n",
    "                 ]\n",
    "\n",
    "answer_column_2 = [12, 54, 0, 4]\n",
    "\n",
    "input_matrix_2 = [\n",
    "                  [3, 2, 2, 2],\n",
    "                  [-4, 1, -2, -3],\n",
    "                  [5, 2, 2, 2],\n",
    "                  [-4, 3, -4, -1]\n",
    "                 ]\n",
    "\n",
    "answer_column_3 = [4, 1.5, 3, 3]\n",
    "\n",
    "input_matrix_3 = [\n",
    "                  [10, 4, 3, 1],\n",
    "                  [1.5, 6, 15, 1],\n",
    "                  [-1.5, 22, 7, 3],\n",
    "                  [1, 10, 6, 4]\n",
    "                 ]"
   ]
  },
  {
   "cell_type": "code",
   "execution_count": 178,
   "metadata": {},
   "outputs": [
    {
     "name": "stdout",
     "output_type": "stream",
     "text": [
      "0.3902909624141388 -0.04484062668827659 0.3808752025931931 -0.3671374546577136\n",
      "2\n",
      "1\n",
      "3\n",
      "-3\n"
     ]
    }
   ],
   "source": [
    "def cramers_rule(input_matrix, answer_column):\n",
    "    result = []\n",
    "    d = np.linalg.det([row[:] for row in input_matrix])\n",
    "\n",
    "    for i in range(len(input_matrix)):\n",
    "        copy_matrix = [row[:] for row in input_matrix]\n",
    "        copy_matrix[i] = answer_column[:]\n",
    "\n",
    "        d_other = np.linalg.det(copy_matrix)\n",
    "\n",
    "        result.append(d_other / d)\n",
    "\n",
    "    return result\n",
    "\n",
    "a, b, c, d = cramers_rule(input_matrix_1, answer_column_1)\n",
    "print(a, b, c, d)\n",
    "print(round(12 * a + b - 5 * c + 2 * d))\n",
    "print(round(2 * a - 14 * b - 3 * c - 2 * d))\n",
    "print(round(2 * a + 3 * b + 11 * c + 5 * d))\n",
    "print(round(1 * a + b - 3 * c + 6 * d))"
   ]
  },
  {
   "cell_type": "code",
   "execution_count": 179,
   "metadata": {
    "scrolled": true
   },
   "outputs": [
    {
     "name": "stdout",
     "output_type": "stream",
     "text": [
      "0.3902909624141391 -0.044840626688276604 0.38087520259319285 -0.367137454657714\n",
      "2\n",
      "1\n",
      "3\n",
      "-3\n"
     ]
    }
   ],
   "source": [
    "def gauss_elimination(input_matrix, answer_column):\n",
    "    copy_matrix = [row[:] for row in input_matrix]\n",
    "    copy_matrix.append(answer_column[:])\n",
    "    n = len(input_matrix)\n",
    "         \n",
    "    for i in range(len(input_matrix) - 1):\n",
    "        for j in range(i + 1, len(input_matrix)):\n",
    "            multiplier = -(copy_matrix[i][j] / copy_matrix[i][i])\n",
    "            for k in range(i, len(copy_matrix)):\n",
    "                copy_matrix[k][j] += copy_matrix[k][i] * multiplier\n",
    "\n",
    "    result = [0] * n\n",
    "    result[n - 1] = copy_matrix[n][n - 1] / copy_matrix[n - 1][n - 1]\n",
    "\n",
    "    for i in range(n - 2, -1, -1):\n",
    "        sum_term = copy_matrix[n][i]\n",
    "        for j in range(i + 1, n):\n",
    "            sum_term -= copy_matrix[j][i] * result[j]\n",
    "        result[i] = sum_term / copy_matrix[i][i]\n",
    "        \n",
    "    return result\n",
    "    \n",
    "a, b, c, d = gauss_elimination(input_matrix_1, answer_column_1)\n",
    "print(a, b, c, d)\n",
    "print(round(12 * a + b - 5 * c + 2 * d))\n",
    "print(round(2 * a - 14 * b - 3 * c - 2 * d))\n",
    "print(round(2 * a + 3 * b + 11 * c + 5 * d))\n",
    "print(round(1 * a + b - 3 * c + 6 * d))"
   ]
  },
  {
   "cell_type": "code",
   "execution_count": 181,
   "metadata": {},
   "outputs": [
    {
     "name": "stdout",
     "output_type": "stream",
     "text": [
      "0.39029096241413913 -0.04484062668827662 0.38087520259319285 -0.367137454657714\n",
      "2\n",
      "1\n",
      "3\n",
      "-3\n"
     ]
    }
   ],
   "source": [
    "def gauss_jordan(input_matrix, answer_column):\n",
    "    copy_matrix = [row[:] for row in input_matrix]\n",
    "    copy_matrix.append(answer_column[:])\n",
    "    n = len(input_matrix)\n",
    "\n",
    "    for i in range(len(input_matrix) - 1):\n",
    "        for j in range(i + 1, len(input_matrix)):\n",
    "            multiplier = -(copy_matrix[i][j] / copy_matrix[i][i])\n",
    "            for k in range(i, len(copy_matrix)):\n",
    "                copy_matrix[k][j] += copy_matrix[k][i] * multiplier\n",
    "                \n",
    "    for i in range(len(input_matrix) - 1, -1, -1):\n",
    "        for j in range(i):\n",
    "            multiplier = -(copy_matrix[i][j] / copy_matrix[i][i])\n",
    "            for k in range(len(copy_matrix) - 1, -1, -1):\n",
    "                copy_matrix[k][j] += copy_matrix[k][i] * multiplier\n",
    "\n",
    "    result = []\n",
    "    \n",
    "    for i in range(n):\n",
    "        result.append(copy_matrix[n][i] / copy_matrix[i][i])\n",
    "    \n",
    "    return result\n",
    "\n",
    "a, b, c, d = gauss_jordan(input_matrix_1, answer_column_1)\n",
    "print(a, b, c, d)\n",
    "print(round(12 * a + b - 5 * c + 2 * d))\n",
    "print(round(2 * a - 14 * b - 3 * c - 2 * d))\n",
    "print(round(2 * a + 3 * b + 11 * c + 5 * d))\n",
    "print(round(1 * a + b - 3 * c + 6 * d))"
   ]
  },
  {
   "cell_type": "code",
   "execution_count": null,
   "metadata": {},
   "outputs": [],
   "source": []
  }
 ],
 "metadata": {
  "colab": {
   "provenance": []
  },
  "kernelspec": {
   "display_name": "Python 3 (ipykernel)",
   "language": "python",
   "name": "python3"
  },
  "language_info": {
   "codemirror_mode": {
    "name": "ipython",
    "version": 3
   },
   "file_extension": ".py",
   "mimetype": "text/x-python",
   "name": "python",
   "nbconvert_exporter": "python",
   "pygments_lexer": "ipython3",
   "version": "3.12.6"
  }
 },
 "nbformat": 4,
 "nbformat_minor": 4
}
