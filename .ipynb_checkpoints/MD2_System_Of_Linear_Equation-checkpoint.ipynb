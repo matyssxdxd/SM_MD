{
 "cells": [
  {
   "cell_type": "markdown",
   "metadata": {
    "id": "9_kgmbVVTkqA"
   },
   "source": [
    "# Mājas darbs 2 - Lineāro vienādojumu sistēmas\n",
    "Aprēķināt doto lineāro vienādojumu sistēmu $X$, izmantojot metodi $Y$. Papildus punkti par uzrakstīto funckiju, kura būs izveidota vispārīgā veidā un spēs aprēķināt brīvi izvēlēta lieluma vienādojumu sistēmu.\n",
    "\n",
    "$Y$ =\n",
    "\n",
    "a. Krāmera   \n",
    "b. Gauss izslēgšanas   \n",
    "c. Gauss-Jordan   \n",
    "d. Gauss-Siedel   \n",
    "\n",
    "$X$=\n",
    "\n",
    "(1)\\begin{alignat*}{4}\n",
    "   12a & {}+{} & b & {}-{} & 5c & {}+{} & 2d & {}={} 2 \\\\\n",
    "   2a & {}-{} & 14b & {}-{} & 3c & {}-{} & 2d & {}={} 1 \\\\\n",
    "   2a & {}+{} & 3b & {}+{} & 11c & {}+{} & 5d & {}={} 3 \\\\\n",
    "   a & {}+{} & b & {}-{} & 3c & {}+{} & 6d & {}={} -3 \\\\\n",
    "\\end{alignat*}\n",
    "(2)\\begin{alignat*}{4}\n",
    "   3x & {}-{} & 4y & {}+{} & 5z & {}-{} & 4t & {}={} 12 \\\\\n",
    "   2x & {}+{} & y & {}+{} & 2z & {}+{} & 3t & {}={} 52 \\\\\n",
    "   2x & {}-{} & 2y & {}+{} & 2z & {}-{} & 4t & {}={} 0 \\\\\n",
    "   2x & {}-{} & 3y & {}+{} & 2z & {}-{} & t & {}={} 4 \\\\\n",
    "\\end{alignat*}\n",
    "(3) \\begin{alignat*}{4}\n",
    "   10a & {}+{} & 1.5b & {}-{} & 1.5c & {}+{} & d & {}={} 4 \\\\\n",
    "   4a  & {}+{} & 6b & {}+{} & 22c & {}+{} & 10d & {}={} 1.5 \\\\\n",
    "   3a  & {}+{} & 15b & {}+{} & 7c & {}+{} & 6d & {}={} 3 \\\\\n",
    "   a   & {}+{} & b & {}-{} & 3c & {}+{} & 4d & {}={} 3 \\\\\n",
    "\\end{alignat*}"
   ]
  },
  {
   "cell_type": "code",
   "execution_count": 37,
   "metadata": {
    "id": "dYf2KuU6UzPw"
   },
   "outputs": [],
   "source": [
    "import numpy as np\n",
    "\n",
    "\n",
    "answer_column_1 = [2, 1, 3, -3]\n",
    "\n",
    "input_matrix_1 = [\n",
    "                  [12, 2, 2, 1],\n",
    "                  [1, -14, 3, 1],\n",
    "                  [-5, -3, 11, -3],\n",
    "                  [2, -2, 5, 6]\n",
    "                 ]\n",
    "\n",
    "answer_column_2 = [12, 54, 0, 4]\n",
    "\n",
    "input_matrix_2 = [\n",
    "                  [3, 2, 2, 2],\n",
    "                  [-4, 1, -2, -3],\n",
    "                  [5, 2, 2, 2],\n",
    "                  [-4, 3, -4, -1]\n",
    "                 ]\n",
    "\n",
    "answer_column_3 = [4, 1.5, 3, 3]\n",
    "\n",
    "input_matrix_3 = [\n",
    "                  [10, 4, 3, 1],\n",
    "                  [1.5, 6, 15, 1],\n",
    "                  [-1.5, 22, 7, 3],\n",
    "                  [1, 10, 6, 4]\n",
    "                 ]"
   ]
  },
  {
   "cell_type": "code",
   "execution_count": 62,
   "metadata": {},
   "outputs": [
    {
     "name": "stdout",
     "output_type": "stream",
     "text": [
      "0.3690476190476192\n",
      "4.571428571428575\n",
      "-1.1904761904761898\n",
      "9.559523809523812\n",
      "5.184523809523809\n"
     ]
    }
   ],
   "source": [
    "def cramers_rule(input_matrix, answer_column):\n",
    "    result = []\n",
    "    d = np.linalg.det(input_matrix)\n",
    "\n",
    "    for i in range(len(input_matrix)):\n",
    "        copy_matrix = input_matrix.copy()\n",
    "        copy_matrix[i] = answer_column\n",
    "\n",
    "        d_other = np.linalg.det(copy_matrix)\n",
    "\n",
    "        result.append(d_other / d)\n",
    "\n",
    "    return result\n",
    "\n",
    "a, b, c, d = cramers_rule(input_matrix_1, answer_column_1)\n",
    "print(c)\n",
    "print(12 * a + b - 5 * c + 2 * d)\n",
    "print(2 * a - 14 * b - 3 * c - 2 * d)\n",
    "print(2 * a + 3 * b + 11 * c + 5 * d)\n",
    "print(1 * a + b - 3 * c + 6 * d)"
   ]
  },
  {
   "cell_type": "code",
   "execution_count": 77,
   "metadata": {
    "scrolled": true
   },
   "outputs": [
    {
     "name": "stdout",
     "output_type": "stream",
     "text": [
      "[[ 12.         -14.          12.          -2.        ]\n",
      " [  0.           0.          -0.42857143   2.        ]\n",
      " [  0.          -0.42857143   0.           1.        ]\n",
      " [  0.42857143   0.           0.           4.        ]\n",
      " [  0.           0.           0.          -2.        ]]\n"
     ]
    }
   ],
   "source": [
    "def gauss_elimination(input_matrix, answer_column):\n",
    "    copy_matrix = input_matrix.copy()\n",
    "    \n",
    "    # Append the answer column to the input matrix (assuming augmented matrix)\n",
    "    for i in range(len(input_matrix)):\n",
    "        copy_matrix[i].append(answer_column[i])\n",
    "\n",
    "    # Perform Gaussian elimination\n",
    "    for i in range(len(input_matrix) - 1):\n",
    "        for j in range(i + 1, len(input_matrix)):\n",
    "            multiplier = -(copy_matrix[j][i] / copy_matrix[i][i])\n",
    "            for k in range(i, len(copy_matrix[i])):\n",
    "                copy_matrix[j][k] += round(copy_matrix[i][k] * multiplier)\n",
    "\n",
    "    test = np.array(copy_matrix)\n",
    "    test = test.reshape(5, 4, order='F')\n",
    "\n",
    "    print(test)\n",
    "    \n",
    "gauss_elimination(input_matrix_1, answer_column_1)"
   ]
  },
  {
   "cell_type": "code",
   "execution_count": null,
   "metadata": {},
   "outputs": [],
   "source": []
  }
 ],
 "metadata": {
  "colab": {
   "provenance": []
  },
  "kernelspec": {
   "display_name": "Python 3 (ipykernel)",
   "language": "python",
   "name": "python3"
  },
  "language_info": {
   "codemirror_mode": {
    "name": "ipython",
    "version": 3
   },
   "file_extension": ".py",
   "mimetype": "text/x-python",
   "name": "python",
   "nbconvert_exporter": "python",
   "pygments_lexer": "ipython3",
   "version": "3.12.3"
  }
 },
 "nbformat": 4,
 "nbformat_minor": 4
}
