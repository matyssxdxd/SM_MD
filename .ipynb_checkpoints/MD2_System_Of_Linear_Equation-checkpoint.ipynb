{
 "cells": [
  {
   "cell_type": "markdown",
   "metadata": {
    "id": "9_kgmbVVTkqA"
   },
   "source": [
    "# Mājas darbs 2 - Lineāro vienādojumu sistēmas\n",
    "Aprēķināt doto lineāro vienādojumu sistēmu $X$, izmantojot metodi $Y$. Papildus punkti par uzrakstīto funckiju, kura būs izveidota vispārīgā veidā un spēs aprēķināt brīvi izvēlēta lieluma vienādojumu sistēmu.\n",
    "\n",
    "$Y$ =\n",
    "\n",
    "a. Krāmera   \n",
    "b. Gauss izslēgšanas   \n",
    "c. Gauss-Jordan   \n",
    "d. Gauss-Siedel   \n",
    "\n",
    "$X$=\n",
    "\n",
    "(1)\\begin{alignat*}{4}\n",
    "   12a & {}+{} & b & {}-{} & 5c & {}+{} & 2d & {}={} 2 \\\\\n",
    "   2a & {}-{} & 14b & {}-{} & 3c & {}-{} & 2d & {}={} 1 \\\\\n",
    "   2a & {}+{} & 3b & {}+{} & 11c & {}+{} & 5d & {}={} 3 \\\\\n",
    "   a & {}+{} & b & {}-{} & 3c & {}+{} & 6d & {}={} -3 \\\\\n",
    "\\end{alignat*}\n",
    "(2)\\begin{alignat*}{4}\n",
    "   3x & {}-{} & 4y & {}+{} & 5z & {}-{} & 4t & {}={} 12 \\\\\n",
    "   2x & {}+{} & y & {}+{} & 2z & {}+{} & 3t & {}={} 52 \\\\\n",
    "   2x & {}-{} & 2y & {}+{} & 2z & {}-{} & 4t & {}={} 0 \\\\\n",
    "   2x & {}-{} & 3y & {}+{} & 2z & {}-{} & t & {}={} 4 \\\\\n",
    "\\end{alignat*}\n",
    "(3) \\begin{alignat*}{4}\n",
    "   10a & {}+{} & 1.5b & {}-{} & 1.5c & {}+{} & d & {}={} 4 \\\\\n",
    "   4a  & {}+{} & 6b & {}+{} & 22c & {}+{} & 10d & {}={} 1.5 \\\\\n",
    "   3a  & {}+{} & 15b & {}+{} & 7c & {}+{} & 6d & {}={} 3 \\\\\n",
    "   a   & {}+{} & b & {}-{} & 3c & {}+{} & 4d & {}={} 3 \\\\\n",
    "\\end{alignat*}"
   ]
  },
  {
   "cell_type": "code",
   "execution_count": 57,
   "metadata": {
    "id": "dYf2KuU6UzPw"
   },
   "outputs": [],
   "source": [
    "import numpy as np\n",
    "\n",
    "\n",
    "answer_column_1 = [2, 1, 3, -3]\n",
    "\n",
    "input_matrix_1 = [\n",
    "                  [12, 2, 2, 1],\n",
    "                  [1, -14, 3, 1],\n",
    "                  [-5, -3, 11, -3],\n",
    "                  [2, -2, 5, 6]\n",
    "                 ]\n",
    "\n",
    "answer_column_2 = [12, 52, 0, 4]\n",
    "\n",
    "input_matrix_2 = [\n",
    "                  [3, 2, 2, 2],\n",
    "                  [-4, 1, -2, -3],\n",
    "                  [5, 2, 2, 2],\n",
    "                  [-4, 3, -4, -1]\n",
    "                 ]\n",
    "\n",
    "answer_column_3 = [4, 1.5, 3, 3]\n",
    "\n",
    "input_matrix_3 = [\n",
    "                  [10, 4, 3, 1],\n",
    "                  [1.5, 6, 15, 1],\n",
    "                  [-1.5, 22, 7, 3],\n",
    "                  [1, 10, 6, 4]\n",
    "                 ]\n",
    "\n",
    "TEST_MATRIX = input_matrix_2\n",
    "TEST_ANSWER_COLUMN = answer_column_2\n",
    "\n",
    "def check_output(input_matrix, answers):\n",
    "    result = [0 for _ in range(len(input_matrix))]\n",
    "    for i in range(len(input_matrix)):\n",
    "        for j in range(len(input_matrix[i])):\n",
    "            result[i] += input_matrix[j][i] * answers[j]\n",
    "        result[i] = round(result[i])\n",
    "    print(result)"
   ]
  },
  {
   "cell_type": "code",
   "execution_count": 58,
   "metadata": {},
   "outputs": [
    {
     "name": "stdout",
     "output_type": "stream",
     "text": [
      "[12, 52, 0, 4]\n"
     ]
    }
   ],
   "source": [
    "def cramers_rule(input_matrix, answer_column):\n",
    "    result = []\n",
    "    d = np.linalg.det([row[:] for row in input_matrix])\n",
    "\n",
    "    for i in range(len(input_matrix)):\n",
    "        copy_matrix = [row[:] for row in input_matrix]\n",
    "        copy_matrix[i] = answer_column[:]\n",
    "\n",
    "        d_other = np.linalg.det(copy_matrix)\n",
    "\n",
    "        result.append(d_other / d)\n",
    "\n",
    "    return result\n",
    "\n",
    "answers = cramers_rule(TEST_MATRIX, TEST_ANSWER_COLUMN)\n",
    "check_output(TEST_MATRIX, answers)"
   ]
  },
  {
   "cell_type": "code",
   "execution_count": 59,
   "metadata": {
    "scrolled": true
   },
   "outputs": [
    {
     "name": "stdout",
     "output_type": "stream",
     "text": [
      "[12, 52, 0, 4]\n"
     ]
    }
   ],
   "source": [
    "def gauss_elimination(input_matrix, answer_column):\n",
    "    copy_matrix = [row[:] for row in input_matrix]\n",
    "    copy_matrix.append(answer_column[:])\n",
    "    n = len(input_matrix)\n",
    "         \n",
    "    for i in range(len(input_matrix) - 1):\n",
    "        for j in range(i + 1, len(input_matrix)):\n",
    "            multiplier = -(copy_matrix[i][j] / copy_matrix[i][i])\n",
    "            for k in range(i, len(copy_matrix)):\n",
    "                copy_matrix[k][j] += copy_matrix[k][i] * multiplier\n",
    "\n",
    "    result = [0] * n\n",
    "    result[n - 1] = copy_matrix[n][n - 1] / copy_matrix[n - 1][n - 1]\n",
    "\n",
    "    for i in range(n - 2, -1, -1):\n",
    "        sum_term = copy_matrix[n][i]\n",
    "        for j in range(i + 1, n):\n",
    "            sum_term -= copy_matrix[j][i] * result[j]\n",
    "        result[i] = sum_term / copy_matrix[i][i]\n",
    "        \n",
    "    return result\n",
    "\n",
    "answers = gauss_elimination(TEST_MATRIX, TEST_ANSWER_COLUMN)\n",
    "check_output(TEST_MATRIX, answers)"
   ]
  },
  {
   "cell_type": "code",
   "execution_count": 60,
   "metadata": {},
   "outputs": [
    {
     "name": "stdout",
     "output_type": "stream",
     "text": [
      "[12, 52, 0, 4]\n"
     ]
    }
   ],
   "source": [
    "def gauss_jordan(input_matrix, answer_column):\n",
    "    copy_matrix = [row[:] for row in input_matrix]\n",
    "    copy_matrix.append(answer_column[:])\n",
    "    n = len(input_matrix)\n",
    "\n",
    "    for i in range(len(input_matrix) - 1):\n",
    "        for j in range(i + 1, len(input_matrix)):\n",
    "            multiplier = -(copy_matrix[i][j] / copy_matrix[i][i])\n",
    "            for k in range(i, len(copy_matrix)):\n",
    "                copy_matrix[k][j] += copy_matrix[k][i] * multiplier\n",
    "                \n",
    "    for i in range(len(input_matrix) - 1, -1, -1):\n",
    "        for j in range(i):\n",
    "            multiplier = -(copy_matrix[i][j] / copy_matrix[i][i])\n",
    "            for k in range(len(copy_matrix) - 1, -1, -1):\n",
    "                copy_matrix[k][j] += copy_matrix[k][i] * multiplier\n",
    "\n",
    "    result = []\n",
    "    \n",
    "    for i in range(n):\n",
    "        result.append(copy_matrix[n][i] / copy_matrix[i][i])\n",
    "    \n",
    "    return result\n",
    "\n",
    "answers = gauss_jordan(TEST_MATRIX, TEST_ANSWER_COLUMN)\n",
    "check_output(TEST_MATRIX, answers)"
   ]
  },
  {
   "cell_type": "code",
   "execution_count": 71,
   "metadata": {},
   "outputs": [
    {
     "name": "stdout",
     "output_type": "stream",
     "text": [
      "[4.0, 68.0, -78.0, 496.0]\n",
      "[4.0, 68.0, -78.0, 496.0]\n",
      "[4.0, 68.0, -78.0, 496.0]\n",
      "[4.0, 68.0, -78.0, 496.0]\n",
      "[4.0, 68.0, -78.0, 496.0]\n",
      "[4.0, 68.0, -78.0, 496.0]\n",
      "[4.0, 68.0, -78.0, 496.0]\n",
      "[4.0, 68.0, -78.0, 496.0]\n",
      "[4.0, 68.0, -78.0, 496.0]\n",
      "[4.0, 68.0, -78.0, 496.0]\n",
      "[4.0, 68.0, -78.0, 496.0]\n",
      "[4.0, 68.0, -78.0, 496.0]\n",
      "[4.0, 68.0, -78.0, 496.0]\n",
      "[4.0, 68.0, -78.0, 496.0]\n",
      "[4.0, 68.0, -78.0, 496.0]\n",
      "[4.0, 68.0, -78.0, 496.0]\n",
      "[4.0, 68.0, -78.0, 496.0]\n",
      "[4.0, 68.0, -78.0, 496.0]\n",
      "[4.0, 68.0, -78.0, 496.0]\n",
      "[4.0, 68.0, -78.0, 496.0]\n",
      "[4.0, 68.0, -78.0, 496.0]\n",
      "[4.0, 68.0, -78.0, 496.0]\n",
      "[4.0, 68.0, -78.0, 496.0]\n",
      "[4.0, 68.0, -78.0, 496.0]\n",
      "[4.0, 68.0, -78.0, 496.0]\n",
      "[12, 52, 0, 4]\n"
     ]
    }
   ],
   "source": [
    "# https://www.geeksforgeeks.org/gauss-seidel-method/\n",
    "def gauss_seidel(input_matrix, answer, answer_column):\n",
    "    answer = [0 for _ in range(len(answer_column))]\n",
    "    #Finding length of a(3)       \n",
    "    n = len(input_matrix)                   \n",
    "    # for loop for 3 times as to calculate x, y , z\n",
    "    for j in range(0, n):        \n",
    "        # temp variable d to store b[j]\n",
    "        d = answer_column[j]                  \n",
    "         \n",
    "        # to calculate respective xi, yi, zi\n",
    "        for i in range(0, n):     \n",
    "            if(j != i):\n",
    "                d-=input_matrix[j][i] * answer[i]\n",
    "        # updating the value of our solution        \n",
    "        answer[j] = d / input_matrix[j][j]\n",
    "    # returning our updated solution           \n",
    "    return answer\n",
    "\n",
    "answer = [0 for _ in range(len(TEST_ANSWER_COLUMN))]\n",
    "for i in range(0, 25):            \n",
    "    answer = gauss_seidel(TEST_MATRIX, answer, TEST_ANSWER_COLUMN)\n",
    "    print(answer) \n",
    "check_output(TEST_MATRIX, answers)"
   ]
  },
  {
   "cell_type": "code",
   "execution_count": null,
   "metadata": {},
   "outputs": [],
   "source": []
  }
 ],
 "metadata": {
  "colab": {
   "provenance": []
  },
  "kernelspec": {
   "display_name": "Python 3 (ipykernel)",
   "language": "python",
   "name": "python3"
  },
  "language_info": {
   "codemirror_mode": {
    "name": "ipython",
    "version": 3
   },
   "file_extension": ".py",
   "mimetype": "text/x-python",
   "name": "python",
   "nbconvert_exporter": "python",
   "pygments_lexer": "ipython3",
   "version": "3.12.3"
  }
 },
 "nbformat": 4,
 "nbformat_minor": 4
}
