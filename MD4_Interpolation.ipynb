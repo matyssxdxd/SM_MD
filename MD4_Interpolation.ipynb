{
  "nbformat": 4,
  "nbformat_minor": 0,
  "metadata": {
    "colab": {
      "provenance": []
    },
    "kernelspec": {
      "name": "python3",
      "display_name": "Python 3"
    },
    "language_info": {
      "name": "python"
    }
  },
  "cells": [
    {
      "cell_type": "markdown",
      "source": [
        "# Mājas darbs 4 - Interpolācija\n",
        "\n",
        "Ar augstuma sensoru aprīkots laikapstākļu balons pacēlās debesīs un kādu laiku sniedza nepārtrauktus augstuma datus. Taču noteiktā augstumā $H$ sensors ekstrēmu apstākļu dēļ sastinga, izraisot gaisa balona augstuma rādījumu apstāšanos.\n",
        "\n",
        "Pēc kāda laika, kad balons nolaidās un temperatūra paaugstinājās, sensors atkal sāka ierakstīt augstuma datus.\n",
        "\n",
        "Tabulā ir norādīts balona augstums noteiktos laikos.\n",
        "\n",
        "|Time (t)|\tHeight (H)|\n",
        "|-----|-----|\n",
        "|0|0|\n",
        "|10\t|150|\n",
        "|20|\t400|\n",
        "|30\t|—|\n",
        "|40\t|—|\n",
        "|50\t|—|\n",
        "|60|\t600|\n",
        "|70|\t550|\n",
        "|80|\t400|\n",
        "|90\t|350|\n"
      ],
      "metadata": {
        "id": "cxgP9HXGVQTF"
      }
    },
    {
      "cell_type": "markdown",
      "source": [
        "4.1. Atrast tabulā trūktošās vērtības $H$ pie $t_3=30s$, $t_4=40s$ un $t_5=50s$, izmantojot uzdevuma doto metodi."
      ],
      "metadata": {
        "id": "GhDYaSxAV4ZS"
      }
    },
    {
      "cell_type": "markdown",
      "source": [
        "4.2. Attēlot gaisa balona augstuma izmaiņas grafiku, izmantojot atrasto polinomu."
      ],
      "metadata": {
        "id": "I868YmrBWY8W"
      }
    },
    {
      "cell_type": "markdown",
      "source": [
        "4.3. Attēlot polinomus, kuri tiek veidoti no $n=3$, $n=5$, un $n=10$ punktiem."
      ],
      "metadata": {
        "id": "bmgX2NUcWpbZ"
      }
    }
  ]
}